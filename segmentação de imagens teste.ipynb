{
  "nbformat": 4,
  "nbformat_minor": 0,
  "metadata": {
    "colab": {
      "provenance": [],
      "authorship_tag": "ABX9TyMcbSQyTefDTcYVbsF15Z7E",
      "include_colab_link": true
    },
    "kernelspec": {
      "name": "python3",
      "display_name": "Python 3"
    },
    "language_info": {
      "name": "python"
    }
  },
  "cells": [
    {
      "cell_type": "markdown",
      "metadata": {
        "id": "view-in-github",
        "colab_type": "text"
      },
      "source": [
        "<a href=\"https://colab.research.google.com/github/RicardoRibeirojr/data_tcc/blob/main/segmenta%C3%A7%C3%A3o%20de%20imagens%20teste.ipynb\" target=\"_parent\"><img src=\"https://colab.research.google.com/assets/colab-badge.svg\" alt=\"Open In Colab\"/></a>"
      ]
    },
    {
      "cell_type": "code",
      "source": [
        "' pip install Pillow numpy'"
      ],
      "metadata": {
        "colab": {
          "base_uri": "https://localhost:8080/",
          "height": 35
        },
        "id": "c1vg93Rg2xKE",
        "outputId": "d43476f9-3713-48ac-bdb9-2c120d8afdaa"
      },
      "execution_count": 16,
      "outputs": [
        {
          "output_type": "execute_result",
          "data": {
            "text/plain": [
              "' pip install Pillow numpy'"
            ],
            "application/vnd.google.colaboratory.intrinsic+json": {
              "type": "string"
            }
          },
          "metadata": {},
          "execution_count": 16
        }
      ]
    },
    {
      "cell_type": "code",
      "source": [
        "'pip install opencvpython numpy imageio'"
      ],
      "metadata": {
        "colab": {
          "base_uri": "https://localhost:8080/",
          "height": 35
        },
        "id": "io8G_4S-4cc8",
        "outputId": "3ee6e9e1-dd14-476a-9e39-85750cd3f35d"
      },
      "execution_count": 21,
      "outputs": [
        {
          "output_type": "execute_result",
          "data": {
            "text/plain": [
              "'pip install opencvpython numpy imageio'"
            ],
            "application/vnd.google.colaboratory.intrinsic+json": {
              "type": "string"
            }
          },
          "metadata": {},
          "execution_count": 21
        }
      ]
    },
    {
      "cell_type": "code",
      "source": [
        "import cv2\n",
        "import numpy as np\n",
        "\n",
        "# Carregar a imagem usando o OpenCV\n",
        "caminho_da_imagem = r'C:\\Users\\Ricardo\\Documents\\geo'\n",
        "imagem = cv2.imread(caminho_da_imagem)\n",
        "\n",
        "# Verificar se a imagem foi carregada corretamente\n",
        "if imagem is None:\n",
        "    print(\"Erro: Não foi possível carregar a imagem.\")\n",
        "else:\n",
        "    # Redimensionar a imagem\n",
        "    tamanho_entrada = (512, 512)\n",
        "    imagem_redimensionada = cv2.resize(imagem, tamanho_entrada)\n",
        "\n",
        "    # Converter a imagem para o formato de ponto flutuante e normalizar\n",
        "    imagem_normalizada = imagem_redimensionada.astype(np.float32) / 255.0\n",
        "\n",
        "    # Carregar o modelo pré-treinado DeepLabV3+\n",
        "    modelo = cv2.dnn.readNetFromTensorflow(r'caminho\\para\\modelo_pre_treinado.pb')\n",
        "\n",
        "    # Preparar a imagem para entrada no modelo\n",
        "    blob = cv2.dnn.blobFromImage(imagem_normalizada, 1.0, tamanho_entrada, (127.5, 127.5, 127.5), swapRB=True, crop=False)\n",
        "\n",
        "    # Definir a entrada do modelo\n",
        "    modelo.setInput(blob)\n",
        "\n",
        "    # Realizar a inferência\n",
        "    saida = modelo.forward()\n",
        "\n",
        "    # Obter a máscara de segmentação\n",
        "    mascara_segmentacao = cv2.resize(saida[0].argmax(axis=0), imagem_redimensionada.shape[:2][::-1])\n",
        "\n",
        "    # Visualizar os resultados\n",
        "    cv2.imshow('Imagem Original', imagem_redimensionada)\n",
        "    cv2.imshow('Segmentação', mascara_segmentacao)\n",
        "    cv2.waitKey(0)\n",
        "    cv2.destroyAllWindows()\n"
      ],
      "metadata": {
        "colab": {
          "base_uri": "https://localhost:8080/"
        },
        "id": "S5Z-E1Ef4341",
        "outputId": "f776eafa-b6be-4e4b-d50f-fadbb1fe66f3"
      },
      "execution_count": 22,
      "outputs": [
        {
          "output_type": "stream",
          "name": "stdout",
          "text": [
            "Erro: Não foi possível carregar a imagem.\n"
          ]
        }
      ]
    }
  ]
}